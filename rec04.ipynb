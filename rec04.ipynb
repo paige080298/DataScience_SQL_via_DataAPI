{
 "cells": [
  {
   "cell_type": "markdown",
   "metadata": {},
   "source": [
    "# CS 1656 – Introduction to Data Science \n",
    "\n",
    "## Instructor: Alexandros Labrinidis / Teaching Assistant: Xiaoting Li\n",
    "### Additional credits: Tahereh Arabghalizi, Evangelos Karageorgos, Zuha Agha, Anatoli Shein, Phuong Pham\n",
    "## Recitation 4: SQL via Data API\n",
    "---\n",
    "In this recitation, you will execute SQL queries on real data by connecting to the open data portal of [Western Pennsylavnia Regional Data Center](https://www.wprdc.org/) and requesting data via API calls.  "
   ]
  },
  {
   "cell_type": "code",
   "execution_count": null,
   "metadata": {},
   "outputs": [],
   "source": [
    "import json\n",
    "from datetime import datetime, timedelta, date\n",
    "import requests\n",
    "import pandas as pd\n",
    "import matplotlib.pyplot as plt\n",
    "\n",
    "%matplotlib inline"
   ]
  },
  {
   "cell_type": "markdown",
   "metadata": {},
   "source": [
    "We will be using Allegheny County Restaurant/Food Facility Inspection Violation Dataset found here https://data.wprdc.org/dataset/allegheny-county-restaurant-food-facility-inspection-violations. This dataset contains violation data from actual routine inspections by one of health department staff's members for the last two years. It should be fun to find out inspection results for places where we eat in Pittsburgh! =)"
   ]
  },
  {
   "cell_type": "code",
   "execution_count": null,
   "metadata": {
    "scrolled": true
   },
   "outputs": [],
   "source": [
    "wprdc_api_endpoint = \"https://data.wprdc.org/api/3/action/datastore_search_sql\"\n",
    "\n",
    "# id for database table\n",
    "resource_id = \"1a1329e2-418c-4bd3-af2c-cc334e7559af\"\n",
    "\n",
    "# Get the date from 9 months ago)\n",
    "start_date = datetime.now() - timedelta(days=270)\n",
    "\n",
    "# Convert to a string the format the the data center accepts (yyyy-mm-dd)\n",
    "start_str = start_date.strftime(\"%Y-%m-%d\")\n",
    "\n",
    "# SQL query we'll use in API call to request data\n",
    "query = \"\"\"\n",
    "SELECT *\n",
    "FROM \"{}\"\n",
    "WHERE \"inspect_dt\" >= '{}' AND \"city\" = '{}' \"\"\".format(resource_id, start_str, \"Pittsburgh\")\n",
    "\n",
    "# Make WPRDC API Call\n",
    "response = requests.get(wprdc_api_endpoint, {'sql': query})\n",
    "\n",
    "# Parse response JSON into python dictionary\n",
    "response_data = json.loads(response.text)\n",
    "\n",
    "# Convert dictionary to dataframe\n",
    "df = pd.DataFrame.from_dict(response_data['result']['records'])\n",
    "\n",
    "# Print the number of rows\n",
    "print(df.shape[0], \"rows total\")\n",
    "\n",
    "df.head()\n"
   ]
  },
  {
   "cell_type": "markdown",
   "metadata": {},
   "source": [
    "Details of dataset attributes are below. (Taken from https://data.wprdc.org/dataset/allegheny-county-restaurant-food-facility-inspection-violations/resource/1a1329e2-418c-4bd3-af2c-cc334e7559af)\n"
   ]
  },
  {
   "cell_type": "markdown",
   "metadata": {},
   "source": [
    "## Queries\n",
    "\n",
    "__Q1) Find all unique decription categories of violation in Pittsburgh restaurants over the past nine months.__"
   ]
  },
  {
   "cell_type": "code",
   "execution_count": null,
   "metadata": {},
   "outputs": [],
   "source": [
    "query = \"\"\"\n",
    "SELECT DISTINCT \"description_new\"\n",
    "FROM \"{}\"\n",
    "WHERE \"inspect_dt\" >= '{}' AND \"city\" = '{}' \"\"\".format(resource_id, start_str, \"Pittsburgh\")\n",
    "\n",
    "response = requests.get(wprdc_api_endpoint, {'sql': query})\n",
    "df = pd.DataFrame.from_dict(json.loads(response.text)['result']['records'])\n",
    "\n",
    "df"
   ]
  },
  {
   "cell_type": "markdown",
   "metadata": {},
   "source": [
    "__Q2) Find restaurants in Pittsburgh with no violations in at least one decription category over the past nine months.__"
   ]
  },
  {
   "cell_type": "code",
   "execution_count": null,
   "metadata": {},
   "outputs": [],
   "source": [
    "query = \"\"\"\n",
    "SELECT \"facility_name\", COUNT(\"description_new\")\n",
    "FROM \"{}\"\n",
    "WHERE \"inspect_dt\" >= '{}' AND \"city\" = '{}' AND \"rating\" <> '{}'\n",
    "GROUP BY \"facility_name\" \"\"\".format(resource_id, start_str, \"Pittsburgh\", \"V\")\n",
    "\n",
    "response = requests.get(wprdc_api_endpoint, {'sql': query})\n",
    "\n",
    "df = pd.DataFrame.from_dict(json.loads(response.text)['result']['records'])\n",
    "\n",
    "df"
   ]
  },
  {
   "cell_type": "markdown",
   "metadata": {},
   "source": [
    "### Tasks\n",
    "\n",
    "__T1) Find top 30 restaurants in Pittsburgh with maximum number of violations.__"
   ]
  },
  {
   "cell_type": "code",
   "execution_count": null,
   "metadata": {},
   "outputs": [],
   "source": []
  },
  {
   "cell_type": "markdown",
   "metadata": {},
   "source": [
    "Lets look more closely into the inspection results of Pitt facilities.\n",
    "\n",
    "__T2) Find the category descriptions and their high, medium, low risk ratings for all violations at facilities that start with 'Pitt' over the past nine months.__"
   ]
  },
  {
   "cell_type": "code",
   "execution_count": null,
   "metadata": {},
   "outputs": [],
   "source": []
  },
  {
   "cell_type": "markdown",
   "metadata": {},
   "source": [
    "Now lets look at all facilities that contain word 'Pitt'.\n",
    "\n",
    "__T3) Find the category descriptions and their high, medium, low risk ratings for all violations at all facilities that have word 'Pitt' in their name over the past nine months. Note that results that contain word 'Pitt' as part of another word (e.g. 'Pittsburgh') should not be included__"
   ]
  },
  {
   "cell_type": "code",
   "execution_count": null,
   "metadata": {},
   "outputs": [],
   "source": []
  },
  {
   "cell_type": "markdown",
   "metadata": {},
   "source": [
    "__T4) Find top 20 facilities that have word 'Pitt' in their name and have the highest counts of violations over the past nine months.__"
   ]
  },
  {
   "cell_type": "code",
   "execution_count": null,
   "metadata": {},
   "outputs": [],
   "source": []
  },
  {
   "cell_type": "markdown",
   "metadata": {},
   "source": [
    "Let's make a bar graph of these counts now\n",
    "\n",
    "__T5) Create a bar graph of the counts from T4).__"
   ]
  },
  {
   "cell_type": "code",
   "execution_count": null,
   "metadata": {},
   "outputs": [],
   "source": []
  }
 ],
 "metadata": {
  "anaconda-cloud": {},
  "kernelspec": {
   "display_name": "Python 3",
   "language": "python",
   "name": "python3"
  },
  "language_info": {
   "codemirror_mode": {
    "name": "ipython",
    "version": 3
   },
   "file_extension": ".py",
   "mimetype": "text/x-python",
   "name": "python",
   "nbconvert_exporter": "python",
   "pygments_lexer": "ipython3",
   "version": "3.6.4"
  }
 },
 "nbformat": 4,
 "nbformat_minor": 1
}
